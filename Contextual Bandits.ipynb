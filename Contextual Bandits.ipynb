{
 "cells": [
  {
   "cell_type": "markdown",
   "metadata": {},
   "source": [
    "# A Tutorial for using Bandits for Travel Page Layout Optimization\n",
    "\n",
    "- Robert F. Dickerson\n",
    "\n",
    "Based on [An Efficient Bandit Algorithm for Realtime Multivariate Optimization](https://arxiv.org/pdf/1810.09558.pdf), Daniel Hill et. al. (Amazon.com) KDD'17"
   ]
  },
  {
   "cell_type": "code",
   "execution_count": 58,
   "metadata": {},
   "outputs": [],
   "source": [
    "import pandas as pd\n",
    "import random\n",
    "import numpy as np\n",
    "from scipy.stats import norm, bernoulli, beta\n",
    "import matplotlib.pyplot as plt\n",
    "import itertools\n",
    "\n",
    "np.random.seed(42)"
   ]
  },
  {
   "cell_type": "markdown",
   "metadata": {},
   "source": [
    "## Prologue: Multi-armed bandits\n",
    "\n",
    "Suppose you enter a casino with multiple slot machines. You are told that there are some slot machines that have a higher probability of payout (or reward) than others. However, which machine that is more likely to reward you is unbenownst to you. \n",
    "\n",
    "**Your goal is to play the machines and try to get the highest reward possible.**\n",
    "\n",
    "While you do this, you perhaps want to try testing the machines to try to keep a model for inferring each machine's probability of reward. You do not have the model parameter $p$ for each machine, yet you can try to infer the value of $p$ given the number of successes or failures. For example, if you have 3 machines, you could model the probabilities for each with $p = [0.2, 0.7, 0.4]$.\n",
    "\n",
    "![bandits](diagrams/bandits.png)\n",
    "\n",
    "You can track the behavior history for each machine as a vector. $s$ for number of successes, $f$ for failures, and $\\mathbb{E}[r; s,f]$ for the expectation for the machine.\n",
    "\n",
    "Fortunately, since this is a simple Bernoulli experiment, it is easy to model the behavior. The number of successes or failures are determined by the Bernoulli distribution (which is a binomial distribution with just 1 trial) resulting in a binary value- reward or no reward.\n",
    "\n",
    "Each iteration, you could use the expectation from the history to choose the machine you believe is the best.\n",
    "\n",
    "\\begin{equation*}\n",
    "\\mathbb{E}[x] = \\frac{S[x]}{S[x] + F[x]}\n",
    "\\end{equation*}\n",
    "\n",
    "\n",
    "\n",
    "\n",
    "\n",
    "\n"
   ]
  },
  {
   "cell_type": "markdown",
   "metadata": {},
   "source": [
    "### Greedy algorithm\n",
    "\n",
    "Let's just select the machine with the highest expectation each iteration.\n",
    "\n",
    "Problems:\n",
    "\n",
    "- You get really unlucky and bit a machine with a low $p$ but it pays out\n",
    "- No chance to explore better options if you found a machine that works for you\n"
   ]
  },
  {
   "cell_type": "code",
   "execution_count": 59,
   "metadata": {},
   "outputs": [],
   "source": [
    "def greedy(S, F):\n",
    "    N = len(S)\n",
    "    probs = np.zeros(N)\n",
    "    for i in range(N):\n",
    "        probs[i] = (S[i] + 1)/(e.S[i] + e.F[i] + 1)\n",
    "    \n",
    "    return np.argmax(probs)"
   ]
  },
  {
   "cell_type": "markdown",
   "metadata": {},
   "source": [
    "### E-Greedy algorithm\n",
    "\n",
    "Select the machine with the highest expectation each iteration, but a certain fraction of time ($\\epsilon$) explore other random options.\n",
    "\n",
    "Good for mixing _exploration vs. exploitation_. \n",
    "\n",
    "Problems:\n",
    "\n",
    "- Does not factor in the successes or failures for other candidates accordingly"
   ]
  },
  {
   "cell_type": "code",
   "execution_count": 60,
   "metadata": {},
   "outputs": [],
   "source": [
    "def egreedy(S, F, epsilon=0.1):\n",
    "    explore = np.random.random()\n",
    "    \n",
    "    if explore < epsilon:\n",
    "        return np.random.randint()\n",
    "    \n",
    "    return greedy(S, F)"
   ]
  },
  {
   "cell_type": "markdown",
   "metadata": {},
   "source": [
    "### Bernoulli Thompson sampling\n",
    "\n",
    "Select the machine with the highest probability sampled from the posterior distribution.\n",
    "\n",
    "Consider that the probability of a known p resulting in a reward is defined by the Bernoulli probability mass function:\n",
    "\n",
    "\\begin{equation*}\n",
    "f(k; p) = p^k(1-p)^{1-p} k \\in 0, 1\n",
    "\\end{equation*}\n",
    "\n",
    "There is a conjugate prior that allows us to estimate the probability given the number of successes or failures you have observed. The [beta function](https://en.wikipedia.org/wiki/Beta_function). If we have observed data each machine, we can form a distribution of belief that the probability will be some value. \n",
    "\n",
    "Note, we used the Beta priors of 1, 1 initially."
   ]
  },
  {
   "cell_type": "code",
   "execution_count": 61,
   "metadata": {},
   "outputs": [],
   "source": [
    "def thompson(S, F):\n",
    "    N = len(S)\n",
    "    probs = np.zeros(N)\n",
    "    for i in range(N):\n",
    "        probs[i] = np.random.beta(S[i] + 1, F[i] + 1)\n",
    "    return np.argmax(probs)"
   ]
  },
  {
   "cell_type": "markdown",
   "metadata": {},
   "source": [
    "Let's run an experiment with with 30 trials. The unknown model parameters, $p=[0.2, 0.7, 0.5]$."
   ]
  },
  {
   "cell_type": "code",
   "execution_count": 102,
   "metadata": {},
   "outputs": [],
   "source": [
    "def plot_beliefs(t, S, F):\n",
    "    x = np.linspace(0, 1, 100)\n",
    "    N = len(S)\n",
    "    \n",
    "    plt.figure(t)\n",
    "    \n",
    "    for i in range(N): \n",
    "        y = beta.pdf(x, S[i] + 1, F[i] + 1)\n",
    "        plt.plot(x, y, label=\"Machine {}\".format(i))\n",
    "        plt.fill_between(x, 0, y, alpha=0.4)\n",
    "        \n",
    "    plt.title('trial {}'.format(t))\n",
    "    plt.legend()\n"
   ]
  },
  {
   "cell_type": "code",
   "execution_count": 110,
   "metadata": {},
   "outputs": [
    {
     "name": "stdout",
     "output_type": "stream",
     "text": [
      "Chose machine 1\n",
      "Won!\n",
      "Successes:\t[0 1 0]\n",
      "Failures:\t[0 0 0]\n",
      "Chose machine 1\n",
      "Won!\n",
      "Successes:\t[0 2 0]\n",
      "Failures:\t[0 0 0]\n",
      "Chose machine 1\n",
      "Won!\n",
      "Successes:\t[0 3 0]\n",
      "Failures:\t[0 0 0]\n",
      "Chose machine 1\n",
      "Won!\n",
      "Successes:\t[0 4 0]\n",
      "Failures:\t[0 0 0]\n",
      "Chose machine 1\n",
      "Won!\n",
      "Successes:\t[0 5 0]\n",
      "Failures:\t[0 0 0]\n",
      "Chose machine 0\n",
      "Lost...\n",
      "Successes:\t[0 5 0]\n",
      "Failures:\t[1 0 0]\n",
      "Chose machine 1\n",
      "Won!\n",
      "Successes:\t[0 6 0]\n",
      "Failures:\t[1 0 0]\n",
      "Chose machine 1\n",
      "Won!\n",
      "Successes:\t[0 7 0]\n",
      "Failures:\t[1 0 0]\n",
      "Chose machine 1\n",
      "Won!\n",
      "Successes:\t[0 8 0]\n",
      "Failures:\t[1 0 0]\n",
      "Chose machine 1\n",
      "Won!\n",
      "Successes:\t[0 9 0]\n",
      "Failures:\t[1 0 0]\n",
      "Chose machine 1\n",
      "Lost...\n",
      "Successes:\t[0 9 0]\n",
      "Failures:\t[1 1 0]\n",
      "Chose machine 1\n",
      "Won!\n",
      "Successes:\t[ 0 10  0]\n",
      "Failures:\t[1 1 0]\n",
      "Chose machine 1\n",
      "Won!\n",
      "Successes:\t[ 0 11  0]\n",
      "Failures:\t[1 1 0]\n",
      "Chose machine 1\n",
      "Won!\n",
      "Successes:\t[ 0 12  0]\n",
      "Failures:\t[1 1 0]\n",
      "Chose machine 1\n",
      "Won!\n",
      "Successes:\t[ 0 13  0]\n",
      "Failures:\t[1 1 0]\n",
      "Chose machine 1\n",
      "Won!\n",
      "Successes:\t[ 0 14  0]\n",
      "Failures:\t[1 1 0]\n",
      "Chose machine 1\n",
      "Won!\n",
      "Successes:\t[ 0 15  0]\n",
      "Failures:\t[1 1 0]\n",
      "Chose machine 1\n",
      "Lost...\n",
      "Successes:\t[ 0 15  0]\n",
      "Failures:\t[1 2 0]\n",
      "Chose machine 1\n",
      "Lost...\n",
      "Successes:\t[ 0 15  0]\n",
      "Failures:\t[1 3 0]\n",
      "Chose machine 1\n",
      "Lost...\n",
      "Successes:\t[ 0 15  0]\n",
      "Failures:\t[1 4 0]\n",
      "Chose machine 1\n",
      "Won!\n",
      "Successes:\t[ 0 16  0]\n",
      "Failures:\t[1 4 0]\n",
      "Chose machine 1\n",
      "Lost...\n",
      "Successes:\t[ 0 16  0]\n",
      "Failures:\t[1 5 0]\n",
      "Chose machine 1\n",
      "Won!\n",
      "Successes:\t[ 0 17  0]\n",
      "Failures:\t[1 5 0]\n",
      "Chose machine 1\n",
      "Lost...\n",
      "Successes:\t[ 0 17  0]\n",
      "Failures:\t[1 6 0]\n",
      "Chose machine 2\n",
      "Lost...\n",
      "Successes:\t[ 0 17  0]\n",
      "Failures:\t[1 6 1]\n",
      "Chose machine 1\n",
      "Won!\n",
      "Successes:\t[ 0 18  0]\n",
      "Failures:\t[1 6 1]\n",
      "Chose machine 1\n",
      "Lost...\n",
      "Successes:\t[ 0 18  0]\n",
      "Failures:\t[1 7 1]\n",
      "Chose machine 1\n",
      "Won!\n",
      "Successes:\t[ 0 19  0]\n",
      "Failures:\t[1 7 1]\n",
      "Chose machine 1\n",
      "Won!\n",
      "Successes:\t[ 0 20  0]\n",
      "Failures:\t[1 7 1]\n",
      "Chose machine 1\n",
      "Won!\n",
      "Successes:\t[ 0 21  0]\n",
      "Failures:\t[1 7 1]\n",
      "Experiment Results\n",
      "Total wins:\t21\n",
      "Total losses:\t9\n"
     ]
    },
    {
     "data": {
      "image/png": "[encoded data removed]",
      "text/plain": [
       "<Figure size 432x288 with 1 Axes>"
      ]
     },
     "metadata": {
      "needs_background": "light"
     },
     "output_type": "display_data"
    },
    {
     "data": {
      "image/png": "[encoded data removed]",
      "text/plain": [
       "<Figure size 432x288 with 1 Axes>"
      ]
     },
     "metadata": {
      "needs_background": "light"
     },
     "output_type": "display_data"
    },
    {
     "data": {
      "image/png": "[encoded data removed]",
      "text/plain": [
       "<Figure size 432x288 with 1 Axes>"
      ]
     },
     "metadata": {
      "needs_background": "light"
     },
     "output_type": "display_data"
    }
   ],
   "source": [
    "n_trials = 30\n",
    "p = [0.2, 0.7, 0.5]\n",
    "N = len(p)\n",
    "\n",
    "S = np.zeros(N, dtype=np.uint8)\n",
    "F = np.zeros(N, dtype=np.uint8)\n",
    "\n",
    "for t in range(n_trials):\n",
    "    machine = thompson(S, F)\n",
    "    \n",
    "    print(\"Chose machine {}\".format(machine))\n",
    "    \n",
    "    r = np.random.random()\n",
    "    \n",
    "    if r < p[machine]:\n",
    "        print(\"Won!\")\n",
    "        S[machine] += 1\n",
    "    \n",
    "    else:\n",
    "        print(\"Lost...\")\n",
    "        F[machine] += 1\n",
    "        \n",
    "    print(\"Successes:\\t{}\".format(S))\n",
    "    print(\"Failures:\\t{}\".format(F))\n",
    "        \n",
    "    if t % 10 == 0:\n",
    "        plot_beliefs(t, S, F)\n",
    "        \n",
    "print(\"Experiment Results\")\n",
    "print(\"Total wins:\\t{}\".format(np.sum(S)))\n",
    "print(\"Total losses:\\t{}\".format(np.sum(F)))\n"
   ]
  },
  {
   "cell_type": "markdown",
   "metadata": {},
   "source": [
    "## The Page Layout Problem\n",
    "\n",
    "Suppose you are responsible for choosing which content goes on a web page. The page has a static layout containing multiple slots to put content. Each slot can only contain one type of content. For example, this is what appears when a user [searches for Barcelona].(https://www.vrbo.com/vacation-rentals/europe/spain/catalunya/barcelona-province/barcelona)\n",
    "\n",
    "It contains several widgets:\n",
    "\n",
    "![widgets](pictures/vrbo-widgets.png)\n",
    "\n",
    "Maybe there are some (pair-wise) interactions where placing the weather widget and the year pricing widget on the page at the same time boosts the chance of a reward more than the sum of its parts.\n",
    "\n",
    "In this case, the number of potential layouts, $A$, are $3 \\times 3 \\times 2 = 18$\n",
    "\n",
    "If we assume each slot can contain $N$ types of content, and there are $D$ slots then there are $N^D$ potential layouts. Quickly becomes a **combinatorial explosion!**\n",
    "\n",
    "We can add context, $X$, such as time of year or user history so that perhaps certain widgets should be presented more often based on a user's viewing habit.\n",
    "\n",
    "A feature vector can be formed $B_{A, X}$ combining layout and context.\n",
    "\n",
    "Let's assume that a reward, $R$, could be that a booking was eventually made. $R \\in \\{-1, 1\\}$\n",
    "\n",
    "We can store the history $H_t$ of all the layouts users have seen as a tuple, $(A_t, X_t, R_t)$. \n",
    "\n",
    "For example, let's use this as the layouts:\n",
    "\n",
    "- Slot 1: \n",
    "    1. \"suit your style\"\n",
    "    2. map\n",
    "    3. top rated\n",
    "- Slot 2: \n",
    "    1. city info\n",
    "    2. weather\n",
    "    3. pricing\n",
    "- Slot 3:\n",
    "    1. reviews\n",
    "    2. destination guide\n",
    "    \n",
    "There are therefore 18 potential layouts.\n",
    "\n",
    "## Generate random simulated data\n",
    "\n",
    "Let's generate artificially some random combinations of content and assign the value for reward:\n",
    "\n",
    "- If reviews is in slot 3 then a booking is $p=0.4$ likely.\n",
    "- But if reviews is in slot 3 and top rated rentals are shown in slot 1 then a booking is $p=0.7$ likely.\n",
    "- In all other cases, bookings are $p=0.2$ likely\n",
    "\n",
    "This is highly simplistic example, but it does allow us to represent randomness with a Bernoulli trial. Every time we expose a user to a page layout we draw a random sample that is binary- a reward was received or not. This example demonstrates interaction effects as well since if top rated and reviews are selected, the probability of getting a reward is higher.\n",
    "\n",
    "Note that the parameters of the model cannot be directly known. It can only be estimated given the observed behavior.\n"
   ]
  },
  {
   "cell_type": "code",
   "execution_count": 114,
   "metadata": {},
   "outputs": [],
   "source": [
    "def simulate_behavior(s1, s2, s3):\n",
    "    \"\"\"return whether a reward happened or not\"\"\"\n",
    "    \n",
    "    # draw a uniform random sample\n",
    "    r = np.random.random()\n",
    "    \n",
    "    if s1 == 'top_rated' and s3 =='reviews':\n",
    "        p = 0.7\n",
    "\n",
    "    elif s3 == 'reviews':\n",
    "        p = 0.4\n",
    "        \n",
    "    else: \n",
    "        p = 0.2\n",
    "    \n",
    "    # return 1 or -1 for reward/no reward\n",
    "    return 1 if r > p else -1\n"
   ]
  },
  {
   "cell_type": "code",
   "execution_count": 133,
   "metadata": {},
   "outputs": [
    {
     "data": {
      "text/plain": [
       "'History'"
      ]
     },
     "metadata": {},
     "output_type": "display_data"
    },
    {
     "data": {
      "text/html": [
       "<div>\n",
       "<style scoped>\n",
       "    .dataframe tbody tr th:only-of-type {\n",
       "        vertical-align: middle;\n",
       "    }\n",
       "\n",
       "    .dataframe tbody tr th {\n",
       "        vertical-align: top;\n",
       "    }\n",
       "\n",
       "    .dataframe thead th {\n",
       "        text-align: right;\n",
       "    }\n",
       "</style>\n",
       "<table border=\"1\" class=\"dataframe\">\n",
       "  <thead>\n",
       "    <tr style=\"text-align: right;\">\n",
       "      <th></th>\n",
       "      <th>slot1</th>\n",
       "      <th>slot2</th>\n",
       "      <th>slot3</th>\n",
       "      <th>reward</th>\n",
       "    </tr>\n",
       "  </thead>\n",
       "  <tbody>\n",
       "    <tr>\n",
       "      <td>0</td>\n",
       "      <td>map</td>\n",
       "      <td>city_info</td>\n",
       "      <td>reviews</td>\n",
       "      <td>NaN</td>\n",
       "    </tr>\n",
       "    <tr>\n",
       "      <td>1</td>\n",
       "      <td>top_rated</td>\n",
       "      <td>city_info</td>\n",
       "      <td>destination_guide</td>\n",
       "      <td>NaN</td>\n",
       "    </tr>\n",
       "    <tr>\n",
       "      <td>2</td>\n",
       "      <td>suit_style</td>\n",
       "      <td>weather</td>\n",
       "      <td>destination_guide</td>\n",
       "      <td>NaN</td>\n",
       "    </tr>\n",
       "    <tr>\n",
       "      <td>3</td>\n",
       "      <td>map</td>\n",
       "      <td>city_info</td>\n",
       "      <td>destination_guide</td>\n",
       "      <td>NaN</td>\n",
       "    </tr>\n",
       "    <tr>\n",
       "      <td>4</td>\n",
       "      <td>top_rated</td>\n",
       "      <td>city_info</td>\n",
       "      <td>reviews</td>\n",
       "      <td>NaN</td>\n",
       "    </tr>\n",
       "  </tbody>\n",
       "</table>\n",
       "</div>"
      ],
      "text/plain": [
       "        slot1      slot2              slot3 reward\n",
       "0         map  city_info            reviews    NaN\n",
       "1   top_rated  city_info  destination_guide    NaN\n",
       "2  suit_style    weather  destination_guide    NaN\n",
       "3         map  city_info  destination_guide    NaN\n",
       "4   top_rated  city_info            reviews    NaN"
      ]
     },
     "metadata": {},
     "output_type": "display_data"
    },
    {
     "data": {
      "text/plain": [
       "'Features'"
      ]
     },
     "metadata": {},
     "output_type": "display_data"
    },
    {
     "data": {
      "text/html": [
       "<div>\n",
       "<style scoped>\n",
       "    .dataframe tbody tr th:only-of-type {\n",
       "        vertical-align: middle;\n",
       "    }\n",
       "\n",
       "    .dataframe tbody tr th {\n",
       "        vertical-align: top;\n",
       "    }\n",
       "\n",
       "    .dataframe thead th {\n",
       "        text-align: right;\n",
       "    }\n",
       "</style>\n",
       "<table border=\"1\" class=\"dataframe\">\n",
       "  <thead>\n",
       "    <tr style=\"text-align: right;\">\n",
       "      <th></th>\n",
       "      <th>slot1_suit_style</th>\n",
       "      <th>slot1_map</th>\n",
       "      <th>slot1_top_rated</th>\n",
       "      <th>slot2_city_info</th>\n",
       "      <th>slot2_weather</th>\n",
       "      <th>slot2_pricing</th>\n",
       "      <th>slot3_reviews</th>\n",
       "      <th>slot3_destination_guide</th>\n",
       "    </tr>\n",
       "  </thead>\n",
       "  <tbody>\n",
       "    <tr>\n",
       "      <td>0</td>\n",
       "      <td>0</td>\n",
       "      <td>1</td>\n",
       "      <td>0</td>\n",
       "      <td>1</td>\n",
       "      <td>0</td>\n",
       "      <td>0</td>\n",
       "      <td>1</td>\n",
       "      <td>0</td>\n",
       "    </tr>\n",
       "    <tr>\n",
       "      <td>1</td>\n",
       "      <td>0</td>\n",
       "      <td>0</td>\n",
       "      <td>1</td>\n",
       "      <td>1</td>\n",
       "      <td>0</td>\n",
       "      <td>0</td>\n",
       "      <td>0</td>\n",
       "      <td>1</td>\n",
       "    </tr>\n",
       "    <tr>\n",
       "      <td>2</td>\n",
       "      <td>1</td>\n",
       "      <td>0</td>\n",
       "      <td>0</td>\n",
       "      <td>0</td>\n",
       "      <td>1</td>\n",
       "      <td>0</td>\n",
       "      <td>0</td>\n",
       "      <td>1</td>\n",
       "    </tr>\n",
       "    <tr>\n",
       "      <td>3</td>\n",
       "      <td>0</td>\n",
       "      <td>1</td>\n",
       "      <td>0</td>\n",
       "      <td>1</td>\n",
       "      <td>0</td>\n",
       "      <td>0</td>\n",
       "      <td>0</td>\n",
       "      <td>1</td>\n",
       "    </tr>\n",
       "    <tr>\n",
       "      <td>4</td>\n",
       "      <td>0</td>\n",
       "      <td>0</td>\n",
       "      <td>1</td>\n",
       "      <td>1</td>\n",
       "      <td>0</td>\n",
       "      <td>0</td>\n",
       "      <td>1</td>\n",
       "      <td>0</td>\n",
       "    </tr>\n",
       "  </tbody>\n",
       "</table>\n",
       "</div>"
      ],
      "text/plain": [
       "   slot1_suit_style  slot1_map  slot1_top_rated  slot2_city_info  \\\n",
       "0                 0          1                0                1   \n",
       "1                 0          0                1                1   \n",
       "2                 1          0                0                0   \n",
       "3                 0          1                0                1   \n",
       "4                 0          0                1                1   \n",
       "\n",
       "   slot2_weather  slot2_pricing  slot3_reviews  slot3_destination_guide  \n",
       "0              0              0              1                        0  \n",
       "1              0              0              0                        1  \n",
       "2              1              0              0                        1  \n",
       "3              0              0              0                        1  \n",
       "4              0              0              1                        0  "
      ]
     },
     "metadata": {},
     "output_type": "display_data"
    },
    {
     "data": {
      "text/html": [
       "<div>\n",
       "<style scoped>\n",
       "    .dataframe tbody tr th:only-of-type {\n",
       "        vertical-align: middle;\n",
       "    }\n",
       "\n",
       "    .dataframe tbody tr th {\n",
       "        vertical-align: top;\n",
       "    }\n",
       "\n",
       "    .dataframe thead th {\n",
       "        text-align: right;\n",
       "    }\n",
       "</style>\n",
       "<table border=\"1\" class=\"dataframe\">\n",
       "  <thead>\n",
       "    <tr style=\"text-align: right;\">\n",
       "      <th></th>\n",
       "      <th>slot1</th>\n",
       "      <th>slot2</th>\n",
       "      <th>slot3</th>\n",
       "    </tr>\n",
       "  </thead>\n",
       "  <tbody>\n",
       "    <tr>\n",
       "      <td>0</td>\n",
       "      <td>map</td>\n",
       "      <td>city_info</td>\n",
       "      <td>reviews</td>\n",
       "    </tr>\n",
       "    <tr>\n",
       "      <td>1</td>\n",
       "      <td>top_rated</td>\n",
       "      <td>city_info</td>\n",
       "      <td>destination_guide</td>\n",
       "    </tr>\n",
       "    <tr>\n",
       "      <td>2</td>\n",
       "      <td>suit_style</td>\n",
       "      <td>weather</td>\n",
       "      <td>destination_guide</td>\n",
       "    </tr>\n",
       "    <tr>\n",
       "      <td>3</td>\n",
       "      <td>map</td>\n",
       "      <td>city_info</td>\n",
       "      <td>destination_guide</td>\n",
       "    </tr>\n",
       "    <tr>\n",
       "      <td>4</td>\n",
       "      <td>top_rated</td>\n",
       "      <td>city_info</td>\n",
       "      <td>reviews</td>\n",
       "    </tr>\n",
       "  </tbody>\n",
       "</table>\n",
       "</div>"
      ],
      "text/plain": [
       "        slot1      slot2              slot3\n",
       "0         map  city_info            reviews\n",
       "1   top_rated  city_info  destination_guide\n",
       "2  suit_style    weather  destination_guide\n",
       "3         map  city_info  destination_guide\n",
       "4   top_rated  city_info            reviews"
      ]
     },
     "metadata": {},
     "output_type": "display_data"
    },
    {
     "data": {
      "text/plain": [
       "'History after simulating'"
      ]
     },
     "metadata": {},
     "output_type": "display_data"
    },
    {
     "data": {
      "text/html": [
       "<div>\n",
       "<style scoped>\n",
       "    .dataframe tbody tr th:only-of-type {\n",
       "        vertical-align: middle;\n",
       "    }\n",
       "\n",
       "    .dataframe tbody tr th {\n",
       "        vertical-align: top;\n",
       "    }\n",
       "\n",
       "    .dataframe thead th {\n",
       "        text-align: right;\n",
       "    }\n",
       "</style>\n",
       "<table border=\"1\" class=\"dataframe\">\n",
       "  <thead>\n",
       "    <tr style=\"text-align: right;\">\n",
       "      <th></th>\n",
       "      <th>slot1</th>\n",
       "      <th>slot2</th>\n",
       "      <th>slot3</th>\n",
       "      <th>reward</th>\n",
       "    </tr>\n",
       "  </thead>\n",
       "  <tbody>\n",
       "    <tr>\n",
       "      <td>0</td>\n",
       "      <td>map</td>\n",
       "      <td>city_info</td>\n",
       "      <td>reviews</td>\n",
       "      <td>-1</td>\n",
       "    </tr>\n",
       "    <tr>\n",
       "      <td>1</td>\n",
       "      <td>top_rated</td>\n",
       "      <td>city_info</td>\n",
       "      <td>destination_guide</td>\n",
       "      <td>-1</td>\n",
       "    </tr>\n",
       "    <tr>\n",
       "      <td>2</td>\n",
       "      <td>suit_style</td>\n",
       "      <td>weather</td>\n",
       "      <td>destination_guide</td>\n",
       "      <td>1</td>\n",
       "    </tr>\n",
       "    <tr>\n",
       "      <td>3</td>\n",
       "      <td>map</td>\n",
       "      <td>city_info</td>\n",
       "      <td>destination_guide</td>\n",
       "      <td>1</td>\n",
       "    </tr>\n",
       "    <tr>\n",
       "      <td>4</td>\n",
       "      <td>top_rated</td>\n",
       "      <td>city_info</td>\n",
       "      <td>reviews</td>\n",
       "      <td>-1</td>\n",
       "    </tr>\n",
       "  </tbody>\n",
       "</table>\n",
       "</div>"
      ],
      "text/plain": [
       "        slot1      slot2              slot3  reward\n",
       "0         map  city_info            reviews      -1\n",
       "1   top_rated  city_info  destination_guide      -1\n",
       "2  suit_style    weather  destination_guide       1\n",
       "3         map  city_info  destination_guide       1\n",
       "4   top_rated  city_info            reviews      -1"
      ]
     },
     "metadata": {},
     "output_type": "display_data"
    }
   ],
   "source": [
    "choices_slot_1 = [\"suit_style\", \"map\", \"top_rated\"]\n",
    "choices_slot_2 = [\"city_info\", \"weather\", \"pricing\"]\n",
    "choices_slot_3 = [\"reviews\", \"destination_guide\"]\n",
    "device_choices = [\"web\", \"mobile\"]\n",
    "\n",
    "# number of random layouts to generate\n",
    "N = 5\n",
    "\n",
    "# generate random layouts\n",
    "s1 = random.choices(choices_slot_1, k=N)\n",
    "s2 = random.choices(choices_slot_2, k=N)\n",
    "s3 = random.choices(choices_slot_3, k=N)\n",
    "\n",
    "data = {'slot1': s1, 'slot2': s2, 'slot3': s3, 'reward': np.NaN}\n",
    "H = pd.DataFrame(data=data, dtype='category')\n",
    "H[\"slot1\"] = H[\"slot1\"].cat.set_categories(choices_slot_1)\n",
    "H[\"slot2\"] = H[\"slot2\"].cat.set_categories(choices_slot_2)\n",
    "H[\"slot3\"] = H[\"slot3\"].cat.set_categories(choices_slot_3)\n",
    "\n",
    "#df[\"device_context\"] = df[\"device_context\"].cat.set_categories(['web', 'mobile'])\n",
    "\n",
    "    \n",
    "def to_features(df):\n",
    "    \"\"\"convert the slots to a feature vector\"\"\"\n",
    "    df1 = df.copy()\n",
    "    df1 = pd.get_dummies(df1, columns=[\"slot1\", \"slot2\", \"slot3\"])\n",
    "    if 'reward' in df.columns:\n",
    "        df1 = df1.drop(columns=[\"reward\"])\n",
    "    return df1\n",
    "\n",
    "def to_categories(df, columns):\n",
    "    \"\"\"converts a feature vector to slots\"\"\"\n",
    "    cat_df = pd.DataFrame()\n",
    "    \n",
    "    for col in columns:\n",
    "        c = df.loc[:, df.columns.str.startswith(col)].idxmax(axis=1).str[len(col + '_'):]\n",
    "        cat_df[col] = c\n",
    "    return cat_df\n",
    "    \n",
    "def simulate(df):\n",
    "    \"\"\"Adds a reward columns\"\"\"\n",
    "    df['reward'] = df.apply(lambda x: simulate_behavior(x['slot1'], x['slot2'], x['slot3']), axis=1)\n",
    "    return df\n",
    "    \n",
    "H_features = to_features(H)\n",
    "H_slots = to_categories(H_features, [\"slot1\", \"slot2\", \"slot3\"])\n",
    "\n",
    "display(\"History\", H)\n",
    "display(\"Features\", H_features)\n",
    "display(H_slots)\n",
    "H = simulate(H)\n",
    "display(\"History after simulating\", H)\n",
    "\n"
   ]
  },
  {
   "cell_type": "markdown",
   "metadata": {},
   "source": [
    "## Online Learning\n",
    "\n",
    "Let's model the reward as a [probit model](https://en.wikipedia.org/wiki/Probit_model) and the argument as a sum of weighted Gaussians modelled as a vector of regressors $W$. $\\Phi$ is the cumulative distribution function (CDF) of the standard normal distribution.\n",
    "\n",
    "\\begin{align}\n",
    "p(R | b, W) & = \\Phi(R * W^Tb)\n",
    "\\end{align}\n",
    "\n",
    "\\begin{align}\n",
    "W^Tb & = W_0 + \\sum_{i=0}{W_i}b_i + \\sum_i\\sum_j{W_{i, j}}b_{i}\n",
    "\\end{align}\n",
    "\n",
    "Refer to [Web-scale Bayesian Click-Through Rate Prediction for Sponsored Search Advertising in Microsoft's Bing Search Engine]() Thore Graepel, et. al. (Microsoft.com), ICML 2010\n",
    "\n",
    "\\begin{align}\n",
    "p(y | x, W) = \\Phi(\\frac{y \\cdot w^T x}{\\beta})\n",
    "\\end{align}\n",
    "\n",
    "\n",
    "total variance:\n",
    "\n",
    "\\begin{align}\n",
    "\\Sigma^2 = \\beta^2 + x^T*\\sigma^2\n",
    "\\end{align}\n",
    "\n",
    "Update the posterior values:\n",
    "\\begin{align}\n",
    "\\mu & := \\mu + y x * \\frac{\\sigma^2}{\\Sigma} \\cdot v(\\frac{y \\cdot x^T\\mu}{\\Sigma}) \\\\\n",
    "\\sigma^2 & := \\sigma^2 \\cdot [1 - x \\cdot \\frac{\\sigma^2}{\\Sigma^2} \\cdot w(\\frac{y \\cdot x^T\\mu}{\\Sigma}] \\\\\n",
    "v(t) & = \\frac{\\mathcal{N}(t; 0, 1)}{\\Phi(t; 0, 1)} \\\\\n",
    "w(t) & = v(t) \\cdot [v(t) + t]\n",
    "\\end{align}\n"
   ]
  },
  {
   "cell_type": "code",
   "execution_count": 127,
   "metadata": {},
   "outputs": [],
   "source": [
    "def v(t):\n",
    "    return norm.pdf(t)/norm.cdf(t)\n",
    "\n",
    "def w(t):\n",
    "    return v(t) * (v(t) + t)\n",
    "\n",
    "def update(mu, sigma, feature, reward, beta=1):\n",
    "    \n",
    "    variance = beta**2 + feature*sigma\n",
    "    Sigma = np.sqrt(variance)\n",
    "        \n",
    "    mu = mu + reward * feature * sigma**2/Sigma * v(reward*feature*mu/Sigma)\n",
    "    sigma = sigma * (1 - feature * sigma**2/Sigma * w(reward * feature * mu/Sigma))\n",
    "    return mu, sigma"
   ]
  },
  {
   "cell_type": "code",
   "execution_count": 128,
   "metadata": {},
   "outputs": [],
   "source": [
    "def plot_weights(mu, sigma, t):\n",
    "    \n",
    "    d = mu.shape[0]\n",
    "    fig, axs = plt.subplots(4, 2, constrained_layout=True)\n",
    "    fig.suptitle(\"Weights beliefs $t={}$\".format(t))\n",
    "\n",
    "    for i in range(d):\n",
    "\n",
    "        x = np.linspace(norm.ppf(0.01), norm.ppf(0.99), 100)\n",
    "\n",
    "        y = norm.pdf(x, loc=mu[i], scale=sigma[i])\n",
    "\n",
    "        ri = i//2\n",
    "        ci = i%2\n",
    "        axs[ri, ci].plot(x, y, label=str(i))\n",
    "        axs[ri, ci].fill_between(x, 0, y, color=\"#348ABD\", alpha=0.4)\n",
    "        axs[ri, ci].set_title(r'$W_{}$'.format(i))\n",
    "\n",
    "\n",
    "    plt.show()"
   ]
  },
  {
   "cell_type": "code",
   "execution_count": 131,
   "metadata": {},
   "outputs": [
    {
     "data": {
      "image/png": "[encoded data removed]",
      "text/plain": [
       "<Figure size 432x288 with 8 Axes>"
      ]
     },
     "metadata": {
      "needs_background": "light"
     },
     "output_type": "display_data"
    },
    {
     "data": {
      "text/html": [
       "<div>\n",
       "<style scoped>\n",
       "    .dataframe tbody tr th:only-of-type {\n",
       "        vertical-align: middle;\n",
       "    }\n",
       "\n",
       "    .dataframe tbody tr th {\n",
       "        vertical-align: top;\n",
       "    }\n",
       "\n",
       "    .dataframe thead th {\n",
       "        text-align: right;\n",
       "    }\n",
       "</style>\n",
       "<table border=\"1\" class=\"dataframe\">\n",
       "  <thead>\n",
       "    <tr style=\"text-align: right;\">\n",
       "      <th></th>\n",
       "      <th>slot1</th>\n",
       "      <th>slot2</th>\n",
       "      <th>slot3</th>\n",
       "      <th>reward</th>\n",
       "    </tr>\n",
       "  </thead>\n",
       "  <tbody>\n",
       "    <tr>\n",
       "      <td>0</td>\n",
       "      <td>top_rated</td>\n",
       "      <td>weather</td>\n",
       "      <td>reviews</td>\n",
       "      <td>-1</td>\n",
       "    </tr>\n",
       "    <tr>\n",
       "      <td>1</td>\n",
       "      <td>top_rated</td>\n",
       "      <td>pricing</td>\n",
       "      <td>reviews</td>\n",
       "      <td>-1</td>\n",
       "    </tr>\n",
       "    <tr>\n",
       "      <td>2</td>\n",
       "      <td>map</td>\n",
       "      <td>pricing</td>\n",
       "      <td>destination_guide</td>\n",
       "      <td>1</td>\n",
       "    </tr>\n",
       "    <tr>\n",
       "      <td>3</td>\n",
       "      <td>top_rated</td>\n",
       "      <td>city_info</td>\n",
       "      <td>destination_guide</td>\n",
       "      <td>1</td>\n",
       "    </tr>\n",
       "    <tr>\n",
       "      <td>4</td>\n",
       "      <td>suit_style</td>\n",
       "      <td>city_info</td>\n",
       "      <td>destination_guide</td>\n",
       "      <td>-1</td>\n",
       "    </tr>\n",
       "  </tbody>\n",
       "</table>\n",
       "</div>"
      ],
      "text/plain": [
       "        slot1      slot2              slot3  reward\n",
       "0   top_rated    weather            reviews      -1\n",
       "1   top_rated    pricing            reviews      -1\n",
       "2         map    pricing  destination_guide       1\n",
       "3   top_rated  city_info  destination_guide       1\n",
       "4  suit_style  city_info  destination_guide      -1"
      ]
     },
     "metadata": {},
     "output_type": "display_data"
    },
    {
     "name": "stdout",
     "output_type": "stream",
     "text": [
      "Running iteration 0\n"
     ]
    },
    {
     "data": {
      "image/png": "[encoded data removed]",
      "text/plain": [
       "<Figure size 432x288 with 8 Axes>"
      ]
     },
     "metadata": {
      "needs_background": "light"
     },
     "output_type": "display_data"
    },
    {
     "name": "stdout",
     "output_type": "stream",
     "text": [
      "Running iteration 1\n"
     ]
    },
    {
     "data": {
      "image/png": "[encoded data removed]",
      "text/plain": [
       "<Figure size 432x288 with 8 Axes>"
      ]
     },
     "metadata": {
      "needs_background": "light"
     },
     "output_type": "display_data"
    },
    {
     "name": "stdout",
     "output_type": "stream",
     "text": [
      "Running iteration 2\n"
     ]
    },
    {
     "data": {
      "image/png": "[encoded data removed]",
      "text/plain": [
       "<Figure size 432x288 with 8 Axes>"
      ]
     },
     "metadata": {
      "needs_background": "light"
     },
     "output_type": "display_data"
    },
    {
     "name": "stdout",
     "output_type": "stream",
     "text": [
      "Running iteration 3\n"
     ]
    },
    {
     "data": {
      "image/png": "[encoded data removed]",
      "text/plain": [
       "<Figure size 432x288 with 8 Axes>"
      ]
     },
     "metadata": {
      "needs_background": "light"
     },
     "output_type": "display_data"
    }
   ],
   "source": [
    "# time iterations\n",
    "t = 4\n",
    "\n",
    "# number of dimensions\n",
    "d = 8\n",
    "\n",
    "# initial weights\n",
    "mu = np.zeros(d, np.float32)\n",
    "sigma = np.ones(d, np.float32)\n",
    "\n",
    "plot_weights(mu, sigma, -1)\n",
    "\n",
    "H = simulate(H)\n",
    "display(H)\n",
    "\n",
    "# compute the feature vectors for each\n",
    "features = to_features(H)\n",
    "\n",
    "for i in range(t):\n",
    "    print(\"Running iteration {}\".format(i))\n",
    "    row = H.iloc[i]\n",
    "    feature = np.array(features.iloc[i].to_list())\n",
    "    reward = row['reward']\n",
    "        \n",
    "    mu, sigma = update(mu, sigma, feature, reward)\n",
    "    \n",
    "    plot_weights(mu, sigma, i)"
   ]
  },
  {
   "cell_type": "markdown",
   "metadata": {},
   "source": [
    "## Thompson Sampling\n",
    "\n",
    "solve $\\arg \\max_A B^T_{A, X} W$\n",
    "\n",
    "- for all $t = 1, \\ldots, T$ do\n",
    "    - receive context $X_t$\n",
    "    - sample $W_T$ from the posterior $P(W|H_{t-1})$\n",
    "    - select $A_t = \\arg \\max_A B^T_{A, X_t} W_t$\n",
    "    - display layout $A_t$ and observe reward $R_t$\n",
    "    - update $H_t = H_{t-1} \\cup (A_t, R_t, X_t)$"
   ]
  },
  {
   "cell_type": "code",
   "execution_count": 132,
   "metadata": {},
   "outputs": [
    {
     "data": {
      "text/html": [
       "<div>\n",
       "<style scoped>\n",
       "    .dataframe tbody tr th:only-of-type {\n",
       "        vertical-align: middle;\n",
       "    }\n",
       "\n",
       "    .dataframe tbody tr th {\n",
       "        vertical-align: top;\n",
       "    }\n",
       "\n",
       "    .dataframe thead th {\n",
       "        text-align: right;\n",
       "    }\n",
       "</style>\n",
       "<table border=\"1\" class=\"dataframe\">\n",
       "  <thead>\n",
       "    <tr style=\"text-align: right;\">\n",
       "      <th></th>\n",
       "      <th>slot1</th>\n",
       "      <th>slot2</th>\n",
       "      <th>slot3</th>\n",
       "      <th>reward</th>\n",
       "    </tr>\n",
       "  </thead>\n",
       "  <tbody>\n",
       "    <tr>\n",
       "      <td>0</td>\n",
       "      <td>top_rated</td>\n",
       "      <td>weather</td>\n",
       "      <td>reviews</td>\n",
       "      <td>-1</td>\n",
       "    </tr>\n",
       "    <tr>\n",
       "      <td>1</td>\n",
       "      <td>top_rated</td>\n",
       "      <td>pricing</td>\n",
       "      <td>reviews</td>\n",
       "      <td>-1</td>\n",
       "    </tr>\n",
       "    <tr>\n",
       "      <td>2</td>\n",
       "      <td>map</td>\n",
       "      <td>pricing</td>\n",
       "      <td>destination_guide</td>\n",
       "      <td>1</td>\n",
       "    </tr>\n",
       "    <tr>\n",
       "      <td>3</td>\n",
       "      <td>top_rated</td>\n",
       "      <td>city_info</td>\n",
       "      <td>destination_guide</td>\n",
       "      <td>1</td>\n",
       "    </tr>\n",
       "    <tr>\n",
       "      <td>4</td>\n",
       "      <td>suit_style</td>\n",
       "      <td>city_info</td>\n",
       "      <td>destination_guide</td>\n",
       "      <td>-1</td>\n",
       "    </tr>\n",
       "  </tbody>\n",
       "</table>\n",
       "</div>"
      ],
      "text/plain": [
       "        slot1      slot2              slot3  reward\n",
       "0   top_rated    weather            reviews      -1\n",
       "1   top_rated    pricing            reviews      -1\n",
       "2         map    pricing  destination_guide       1\n",
       "3   top_rated  city_info  destination_guide       1\n",
       "4  suit_style  city_info  destination_guide      -1"
      ]
     },
     "metadata": {},
     "output_type": "display_data"
    },
    {
     "data": {
      "text/plain": [
       "array([[0, 0, 1, 0, 1, 0, 1, 0],\n",
       "       [0, 0, 1, 0, 0, 1, 1, 0],\n",
       "       [0, 1, 0, 0, 0, 1, 0, 1],\n",
       "       [0, 0, 1, 1, 0, 0, 0, 1],\n",
       "       [1, 0, 0, 1, 0, 0, 0, 1]], dtype=uint8)"
      ]
     },
     "metadata": {},
     "output_type": "display_data"
    },
    {
     "data": {
      "text/plain": [
       "0.8592672575285841"
      ]
     },
     "metadata": {},
     "output_type": "display_data"
    },
    {
     "data": {
      "text/plain": [
       "array([0.85926726])"
      ]
     },
     "execution_count": 132,
     "metadata": {},
     "output_type": "execute_result"
    }
   ],
   "source": [
    "w_tilde = np.random.normal(mu, sigma)\n",
    "\n",
    "s1 = pd.Series(['top_rated', 'pricing', 'reviews'], index=[\"slot1\", \"slot2\", \"slot3\"])\n",
    "df = H.append(s1, ignore_index=True)\n",
    "\n",
    "display(H)\n",
    "\n",
    "b1 = np.array(to_features(H))\n",
    "display(b1)\n",
    "\n",
    "c1 = np.sum(b1*w_tilde)\n",
    "\n",
    "display(norm.cdf(c1))\n",
    "\n",
    "norm.cdf([c1])"
   ]
  },
  {
   "cell_type": "code",
   "execution_count": 139,
   "metadata": {},
   "outputs": [],
   "source": [
    "def search_space():\n",
    "    \"\"\"returns a DataFrame with one hot encoding of values\"\"\"\n",
    "    b = itertools.product(choices_slot_1, choices_slot_2, choices_slot_3)\n",
    "    S = pd.DataFrame(data=b, columns=[\"slot1\", \"slot2\", \"slot3\"], dtype='category')\n",
    "    S[\"slot1\"] = S[\"slot1\"].cat.set_categories(choices_slot_1)\n",
    "    S[\"slot2\"] = S[\"slot2\"].cat.set_categories(choices_slot_2)\n",
    "    S[\"slot3\"] = S[\"slot3\"].cat.set_categories(choices_slot_3)    \n",
    "    return S\n",
    "\n",
    "def thompson_step(mu, sigma, H):\n",
    "\n",
    "    # get context\n",
    "    c = \"web\"\n",
    "    \n",
    "    # sample from the weights posterior\n",
    "    w = np.random.normal(mu, sigma)\n",
    "        \n",
    "    # generate the search space\n",
    "    # convert to a matrix\n",
    "    S = search_space()\n",
    "    St = to_features(S)\n",
    "    s = St.values\n",
    "    \n",
    "    # compute the posteriors for each\n",
    "    s = np.sum(w * s, axis=1)\n",
    "    s = norm.cdf(s)\n",
    "    print(\"Probabilities of reward\")\n",
    "    print(s)\n",
    "\n",
    "    # find the most likely layout to receive reward\n",
    "    best_index = np.argmin(s)\n",
    "    best_layout = St.iloc[[best_index]]\n",
    "    \n",
    "    #simulate and observe behavior\n",
    "    choices = to_categories(best_layout, columns=[\"slot1\", \"slot2\", \"slot3\"])\n",
    "    print(choices)\n",
    "    \n",
    "    mu, sigma = update(mu, sigma, best_layout.values, reward)\n",
    "    \n",
    "    plot_weights(mu, sigma, i)\n",
    "    \n",
    "    return mu, sigma, H\n",
    "    \n",
    "    "
   ]
  },
  {
   "cell_type": "code",
   "execution_count": 140,
   "metadata": {},
   "outputs": [
    {
     "name": "stdout",
     "output_type": "stream",
     "text": [
      "Probabilities of reward\n",
      "[0.95028383 0.91736911 0.99861772 0.99685961 0.9964063  0.99240909\n",
      " 0.87958007 0.8193442  0.99409968 0.98802807 0.98656194 0.97460743\n",
      " 0.62091577 0.51908824 0.95083934 0.91819396 0.91122049 0.86176591]\n",
      "        slot1      slot2              slot3\n",
      "13  top_rated  city_info  destination_guide\n"
     ]
    },
    {
     "ename": "ValueError",
     "evalue": "operands could not be broadcast together with shapes (100,) (8,) ",
     "output_type": "error",
     "traceback": [
      "\u001b[0;31m---------------------------------------------------------------------------\u001b[0m",
      "\u001b[0;31mValueError\u001b[0m                                Traceback (most recent call last)",
      "\u001b[0;32m<ipython-input-140-e3eee3035776>\u001b[0m in \u001b[0;36m<module>\u001b[0;34m\u001b[0m\n\u001b[1;32m      7\u001b[0m \u001b[0;34m\u001b[0m\u001b[0m\n\u001b[1;32m      8\u001b[0m \u001b[0;32mfor\u001b[0m \u001b[0mt\u001b[0m \u001b[0;32min\u001b[0m \u001b[0mrange\u001b[0m\u001b[0;34m(\u001b[0m\u001b[0;36m3\u001b[0m\u001b[0;34m)\u001b[0m\u001b[0;34m:\u001b[0m\u001b[0;34m\u001b[0m\u001b[0;34m\u001b[0m\u001b[0m\n\u001b[0;32m----> 9\u001b[0;31m     \u001b[0mmu\u001b[0m\u001b[0;34m,\u001b[0m \u001b[0msigma\u001b[0m\u001b[0;34m,\u001b[0m \u001b[0mH\u001b[0m \u001b[0;34m=\u001b[0m \u001b[0mthompson_step\u001b[0m\u001b[0;34m(\u001b[0m\u001b[0mmu\u001b[0m\u001b[0;34m,\u001b[0m \u001b[0msigma\u001b[0m\u001b[0;34m,\u001b[0m \u001b[0mH\u001b[0m\u001b[0;34m)\u001b[0m\u001b[0;34m\u001b[0m\u001b[0;34m\u001b[0m\u001b[0m\n\u001b[0m\u001b[1;32m     10\u001b[0m \u001b[0;34m\u001b[0m\u001b[0m\n",
      "\u001b[0;32m<ipython-input-139-de6fa160fe92>\u001b[0m in \u001b[0;36mthompson_step\u001b[0;34m(mu, sigma, H)\u001b[0m\n\u001b[1;32m     38\u001b[0m     \u001b[0mmu\u001b[0m\u001b[0;34m,\u001b[0m \u001b[0msigma\u001b[0m \u001b[0;34m=\u001b[0m \u001b[0mupdate\u001b[0m\u001b[0;34m(\u001b[0m\u001b[0mmu\u001b[0m\u001b[0;34m,\u001b[0m \u001b[0msigma\u001b[0m\u001b[0;34m,\u001b[0m \u001b[0mbest_layout\u001b[0m\u001b[0;34m.\u001b[0m\u001b[0mvalues\u001b[0m\u001b[0;34m,\u001b[0m \u001b[0mreward\u001b[0m\u001b[0;34m)\u001b[0m\u001b[0;34m\u001b[0m\u001b[0;34m\u001b[0m\u001b[0m\n\u001b[1;32m     39\u001b[0m \u001b[0;34m\u001b[0m\u001b[0m\n\u001b[0;32m---> 40\u001b[0;31m     \u001b[0mplot_weights\u001b[0m\u001b[0;34m(\u001b[0m\u001b[0mmu\u001b[0m\u001b[0;34m,\u001b[0m \u001b[0msigma\u001b[0m\u001b[0;34m,\u001b[0m \u001b[0mi\u001b[0m\u001b[0;34m)\u001b[0m\u001b[0;34m\u001b[0m\u001b[0;34m\u001b[0m\u001b[0m\n\u001b[0m\u001b[1;32m     41\u001b[0m \u001b[0;34m\u001b[0m\u001b[0m\n\u001b[1;32m     42\u001b[0m     \u001b[0;32mreturn\u001b[0m \u001b[0mmu\u001b[0m\u001b[0;34m,\u001b[0m \u001b[0msigma\u001b[0m\u001b[0;34m,\u001b[0m \u001b[0mH\u001b[0m\u001b[0;34m\u001b[0m\u001b[0;34m\u001b[0m\u001b[0m\n",
      "\u001b[0;32m<ipython-input-59-caf24bb81859>\u001b[0m in \u001b[0;36mplot_weights\u001b[0;34m(mu, sigma, t)\u001b[0m\n\u001b[1;32m      9\u001b[0m         \u001b[0mx\u001b[0m \u001b[0;34m=\u001b[0m \u001b[0mnp\u001b[0m\u001b[0;34m.\u001b[0m\u001b[0mlinspace\u001b[0m\u001b[0;34m(\u001b[0m\u001b[0mnorm\u001b[0m\u001b[0;34m.\u001b[0m\u001b[0mppf\u001b[0m\u001b[0;34m(\u001b[0m\u001b[0;36m0.01\u001b[0m\u001b[0;34m)\u001b[0m\u001b[0;34m,\u001b[0m \u001b[0mnorm\u001b[0m\u001b[0;34m.\u001b[0m\u001b[0mppf\u001b[0m\u001b[0;34m(\u001b[0m\u001b[0;36m0.99\u001b[0m\u001b[0;34m)\u001b[0m\u001b[0;34m,\u001b[0m \u001b[0;36m100\u001b[0m\u001b[0;34m)\u001b[0m\u001b[0;34m\u001b[0m\u001b[0;34m\u001b[0m\u001b[0m\n\u001b[1;32m     10\u001b[0m \u001b[0;34m\u001b[0m\u001b[0m\n\u001b[0;32m---> 11\u001b[0;31m         \u001b[0my\u001b[0m \u001b[0;34m=\u001b[0m \u001b[0mnorm\u001b[0m\u001b[0;34m.\u001b[0m\u001b[0mpdf\u001b[0m\u001b[0;34m(\u001b[0m\u001b[0mx\u001b[0m\u001b[0;34m,\u001b[0m \u001b[0mloc\u001b[0m\u001b[0;34m=\u001b[0m\u001b[0mmu\u001b[0m\u001b[0;34m[\u001b[0m\u001b[0mi\u001b[0m\u001b[0;34m]\u001b[0m\u001b[0;34m,\u001b[0m \u001b[0mscale\u001b[0m\u001b[0;34m=\u001b[0m\u001b[0msigma\u001b[0m\u001b[0;34m[\u001b[0m\u001b[0mi\u001b[0m\u001b[0;34m]\u001b[0m\u001b[0;34m)\u001b[0m\u001b[0;34m\u001b[0m\u001b[0;34m\u001b[0m\u001b[0m\n\u001b[0m\u001b[1;32m     12\u001b[0m \u001b[0;34m\u001b[0m\u001b[0m\n\u001b[1;32m     13\u001b[0m         \u001b[0mri\u001b[0m \u001b[0;34m=\u001b[0m \u001b[0mi\u001b[0m\u001b[0;34m//\u001b[0m\u001b[0;36m2\u001b[0m\u001b[0;34m\u001b[0m\u001b[0;34m\u001b[0m\u001b[0m\n",
      "\u001b[0;32m~/.conda/envs/bandit/lib/python3.7/site-packages/scipy/stats/_distn_infrastructure.py\u001b[0m in \u001b[0;36mpdf\u001b[0;34m(self, x, *args, **kwds)\u001b[0m\n\u001b[1;32m   1718\u001b[0m         \u001b[0margs\u001b[0m \u001b[0;34m=\u001b[0m \u001b[0mtuple\u001b[0m\u001b[0;34m(\u001b[0m\u001b[0mmap\u001b[0m\u001b[0;34m(\u001b[0m\u001b[0masarray\u001b[0m\u001b[0;34m,\u001b[0m \u001b[0margs\u001b[0m\u001b[0;34m)\u001b[0m\u001b[0;34m)\u001b[0m\u001b[0;34m\u001b[0m\u001b[0;34m\u001b[0m\u001b[0m\n\u001b[1;32m   1719\u001b[0m         \u001b[0mdtyp\u001b[0m \u001b[0;34m=\u001b[0m \u001b[0mnp\u001b[0m\u001b[0;34m.\u001b[0m\u001b[0mfind_common_type\u001b[0m\u001b[0;34m(\u001b[0m\u001b[0;34m[\u001b[0m\u001b[0mx\u001b[0m\u001b[0;34m.\u001b[0m\u001b[0mdtype\u001b[0m\u001b[0;34m,\u001b[0m \u001b[0mnp\u001b[0m\u001b[0;34m.\u001b[0m\u001b[0mfloat64\u001b[0m\u001b[0;34m]\u001b[0m\u001b[0;34m,\u001b[0m \u001b[0;34m[\u001b[0m\u001b[0;34m]\u001b[0m\u001b[0;34m)\u001b[0m\u001b[0;34m\u001b[0m\u001b[0;34m\u001b[0m\u001b[0m\n\u001b[0;32m-> 1720\u001b[0;31m         \u001b[0mx\u001b[0m \u001b[0;34m=\u001b[0m \u001b[0mnp\u001b[0m\u001b[0;34m.\u001b[0m\u001b[0masarray\u001b[0m\u001b[0;34m(\u001b[0m\u001b[0;34m(\u001b[0m\u001b[0mx\u001b[0m \u001b[0;34m-\u001b[0m \u001b[0mloc\u001b[0m\u001b[0;34m)\u001b[0m\u001b[0;34m/\u001b[0m\u001b[0mscale\u001b[0m\u001b[0;34m,\u001b[0m \u001b[0mdtype\u001b[0m\u001b[0;34m=\u001b[0m\u001b[0mdtyp\u001b[0m\u001b[0;34m)\u001b[0m\u001b[0;34m\u001b[0m\u001b[0;34m\u001b[0m\u001b[0m\n\u001b[0m\u001b[1;32m   1721\u001b[0m         \u001b[0mcond0\u001b[0m \u001b[0;34m=\u001b[0m \u001b[0mself\u001b[0m\u001b[0;34m.\u001b[0m\u001b[0m_argcheck\u001b[0m\u001b[0;34m(\u001b[0m\u001b[0;34m*\u001b[0m\u001b[0margs\u001b[0m\u001b[0;34m)\u001b[0m \u001b[0;34m&\u001b[0m \u001b[0;34m(\u001b[0m\u001b[0mscale\u001b[0m \u001b[0;34m>\u001b[0m \u001b[0;36m0\u001b[0m\u001b[0;34m)\u001b[0m\u001b[0;34m\u001b[0m\u001b[0;34m\u001b[0m\u001b[0m\n\u001b[1;32m   1722\u001b[0m         \u001b[0mcond1\u001b[0m \u001b[0;34m=\u001b[0m \u001b[0mself\u001b[0m\u001b[0;34m.\u001b[0m\u001b[0m_support_mask\u001b[0m\u001b[0;34m(\u001b[0m\u001b[0mx\u001b[0m\u001b[0;34m,\u001b[0m \u001b[0;34m*\u001b[0m\u001b[0margs\u001b[0m\u001b[0;34m)\u001b[0m \u001b[0;34m&\u001b[0m \u001b[0;34m(\u001b[0m\u001b[0mscale\u001b[0m \u001b[0;34m>\u001b[0m \u001b[0;36m0\u001b[0m\u001b[0;34m)\u001b[0m\u001b[0;34m\u001b[0m\u001b[0;34m\u001b[0m\u001b[0m\n",
      "\u001b[0;31mValueError\u001b[0m: operands could not be broadcast together with shapes (100,) (8,) "
     ]
    },
    {
     "data": {
      "image/png": "[encoded data removed]",
      "text/plain": [
       "<Figure size 432x288 with 8 Axes>"
      ]
     },
     "metadata": {
      "needs_background": "light"
     },
     "output_type": "display_data"
    }
   ],
   "source": [
    "search_space()\n",
    "\n",
    "mu = np.zeros(d)\n",
    "sigma = np.ones(d)\n",
    "\n",
    "H = pd.DataFrame(columns=[\"slot1\", \"slot2\", \"slot3\", \"reward\"])\n",
    "\n",
    "for t in range(3):\n",
    "    mu, sigma, H = thompson_step(mu, sigma, H)\n",
    "    "
   ]
  },
  {
   "cell_type": "code",
   "execution_count": null,
   "metadata": {},
   "outputs": [],
   "source": []
  },
  {
   "cell_type": "code",
   "execution_count": null,
   "metadata": {},
   "outputs": [],
   "source": []
  },
  {
   "cell_type": "code",
   "execution_count": null,
   "metadata": {},
   "outputs": [],
   "source": []
  }
 ],
 "metadata": {
  "kernelspec": {
   "display_name": "Python 3",
   "language": "python",
   "name": "python3"
  },
  "language_info": {
   "codemirror_mode": {
    "name": "ipython",
    "version": 3
   },
   "file_extension": ".py",
   "mimetype": "text/x-python",
   "name": "python",
   "nbconvert_exporter": "python",
   "pygments_lexer": "ipython3",
   "version": "3.7.3"
  }
 },
 "nbformat": 4,
 "nbformat_minor": 4
}
