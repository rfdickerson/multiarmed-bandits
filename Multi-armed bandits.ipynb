{
 "cells": [
  {
   "cell_type": "code",
   "execution_count": 95,
   "metadata": {},
   "outputs": [],
   "source": [
    "import numpy as np\n",
    "\n",
    "import matplotlib\n",
    "import matplotlib.pyplot as plt\n",
    "\n",
    "%matplotlib inline\n",
    "\n",
    "import seaborn as sns\n",
    "sns.set(style=\"ticks\", palette=\"muted\")"
   ]
  },
  {
   "cell_type": "code",
   "execution_count": 96,
   "metadata": {},
   "outputs": [],
   "source": [
    "# hidden probabilities\n",
    "means = np.array([0.3, 0.6, 0.5])\n",
    "\n",
    "\n",
    "rnd = np.random.RandomState(7)"
   ]
  },
  {
   "cell_type": "markdown",
   "metadata": {},
   "source": [
    "## Greedy Algorithm"
   ]
  },
  {
   "cell_type": "code",
   "execution_count": 97,
   "metadata": {},
   "outputs": [],
   "source": [
    "def pull_lever(machine, means, S, F):\n",
    "    # draw uniform random sample\n",
    "    p = rnd.random_sample()\n",
    "    if p < means[machine]:\n",
    "        S[machine] += 1\n",
    "    else:\n",
    "        F[machine] += 1\n",
    "        "
   ]
  },
  {
   "cell_type": "code",
   "execution_count": 98,
   "metadata": {},
   "outputs": [],
   "source": [
    "def greedy_algorithm(num_trials, means):\n",
    "    \"\"\"Greedy algorithm\"\"\"\n",
    "\n",
    "    N = len(means)\n",
    "    \n",
    "    # current probabilities\n",
    "    probs = np.zeros(N)\n",
    "\n",
    "    # number of successes for each machine\n",
    "    S = np.zeros(N, dtype=np.int)\n",
    "\n",
    "    # number of failures for each machine\n",
    "    F = np.zeros(N, dtype=np.int)\n",
    "\n",
    "    for trial in range(num_trials):\n",
    "        for i in range(N):\n",
    "            probs[i] = (S[i] + 1)/(S[i] + F[i] + 1)\n",
    "            \n",
    "        # choose the most likely machine\n",
    "        machine = np.argmax(probs)\n",
    "        pull_lever(machine, means, S, F)\n",
    "        \n",
    "    return S, F"
   ]
  },
  {
   "cell_type": "markdown",
   "metadata": {},
   "source": [
    "## e-greedy algorithm"
   ]
  },
  {
   "cell_type": "code",
   "execution_count": 99,
   "metadata": {},
   "outputs": [],
   "source": [
    "def e_greedy_algorithm(num_trials, means, epsilon=0.0):\n",
    "    \"\"\"Greedy algorithm\"\"\"\n",
    "\n",
    "    N = len(means)\n",
    "    \n",
    "    # current probabilities\n",
    "    probs = np.zeros(N)\n",
    "\n",
    "    # number of successes for each machine\n",
    "    S = np.zeros(N, dtype=np.int)\n",
    "\n",
    "    # number of failures for each machine\n",
    "    F = np.zeros(N, dtype=np.int)\n",
    "\n",
    "    for trial in range(num_trials):\n",
    "\n",
    "        p = rnd.random_sample()\n",
    "    \n",
    "        for i in range(N):\n",
    "            probs[i] = (S[i] + 1)/(S[i] + F[i] + 1)\n",
    "            \n",
    "        # epsilon number of times choose a random machine\n",
    "        if p < epsilon:\n",
    "            machine = rnd.randint(0, N)\n",
    "            \n",
    "        machine = np.argmax(probs)\n",
    "        pull_lever(machine, means, S, F)\n",
    "        \n",
    "    return S, F"
   ]
  },
  {
   "cell_type": "markdown",
   "metadata": {},
   "source": [
    "## Thompson sampling"
   ]
  },
  {
   "cell_type": "code",
   "execution_count": 100,
   "metadata": {},
   "outputs": [],
   "source": [
    "def thompson_algorithm(num_trials, means):\n",
    "    \"\"\"Thompson sampling algorithm\"\"\"\n",
    "\n",
    "    N = len(means)\n",
    "    \n",
    "    # current probabilities\n",
    "    probs = np.zeros(N)\n",
    "\n",
    "    # number of successes for each machine\n",
    "    S = np.zeros(N, dtype=np.int)\n",
    "\n",
    "    # number of failures for each machine\n",
    "    F = np.zeros(N, dtype=np.int)\n",
    "\n",
    "    for trial in range(num_trials):\n",
    "        for i in range(N):\n",
    "            probs[i] = rnd.beta(S[i] + 1, F[i] + 1)\n",
    "            \n",
    "        # choose the most likely machine\n",
    "        machine = np.argmax(probs)\n",
    "        pull_lever(machine, means, S, F)\n",
    "        \n",
    "    return S, F"
   ]
  },
  {
   "cell_type": "code",
   "execution_count": 171,
   "metadata": {},
   "outputs": [
    {
     "name": "stdout",
     "output_type": "stream",
     "text": [
      "581\n",
      "618\n",
      "575\n"
     ]
    }
   ],
   "source": [
    "means = np.array([0.06, 0.00, 0.06, 0.0, 0.06])\n",
    "\n",
    "num_trials = 10000\n",
    "\n",
    "gS, gF = greedy_algorithm(num_trials, means)\n",
    "\n",
    "eS, eF = e_greedy_algorithm(num_trials, means, 0.05)\n",
    "\n",
    "tS, tF = thompson_algorithm(num_trials, means)\n",
    "\n",
    "print(sum(gS))\n",
    "print(sum(eS))\n",
    "print(sum(tS))"
   ]
  },
  {
   "cell_type": "code",
   "execution_count": 177,
   "metadata": {},
   "outputs": [
    {
     "name": "stdout",
     "output_type": "stream",
     "text": [
      "Trial 0\n",
      "[0.74220482 0.96602734 0.86509351 0.96385393 0.94223785]\n",
      "Playing machine 1\n",
      " -- lose\n",
      "Trial 1\n",
      "[0.66576558 0.52711439 0.25677291 0.02737465 0.12462797]\n",
      "Playing machine 0\n",
      " -- lose\n",
      "Trial 2\n",
      "[0.16359092 0.02810289 0.95894231 0.88521507 0.63796415]\n",
      "Playing machine 2\n",
      " -- lose\n",
      "Trial 3\n",
      "[0.33455763 0.45660155 0.6800156  0.44910037 0.39892525]\n",
      "Playing machine 2\n",
      " -- lose\n",
      "Trial 4\n",
      "[0.06431748 0.45611037 0.23259914 0.66266183 0.49481686]\n",
      "Playing machine 3\n",
      " -- lose\n",
      "Trial 5\n",
      "[0.58980685 0.09905571 0.37949329 0.12516356 0.62534999]\n",
      "Playing machine 4\n",
      " -- lose\n",
      "Trial 6\n",
      "[0.42956607 0.0747853  0.0446808  0.36514591 0.00633574]\n",
      "Playing machine 0\n",
      " -- win!\n",
      "Trial 7\n",
      "[0.4766667  0.21115435 0.04299537 0.33517561 0.00741545]\n",
      "Playing machine 0\n",
      " -- win!\n",
      "Trial 8\n",
      "[0.55374082 0.02909202 0.12165106 0.52465198 0.41067444]\n",
      "Playing machine 0\n",
      " -- lose\n",
      "Trial 9\n",
      "[0.48146341 0.30414617 0.02200487 0.44486933 0.21496442]\n",
      "Playing machine 0\n",
      " -- lose\n",
      "Total wins 2\n"
     ]
    }
   ],
   "source": [
    "N = len(means)\n",
    "\n",
    "num_trials = 10\n",
    "\n",
    "total_wins = 0\n",
    "\n",
    "# current probabilities\n",
    "probs = np.zeros(N)\n",
    "\n",
    "# number of successes for each machine\n",
    "S = np.zeros(N, dtype=np.int)\n",
    "\n",
    "# number of failures for each machine\n",
    "F = np.zeros(N, dtype=np.int)\n",
    "\n",
    "\n",
    "# number of wins at each trial number\n",
    "wins = np.zeros(num_trials)\n",
    "\n",
    "for trial in range(num_trials):\n",
    "    print(\"Trial {}\".format(trial))\n",
    "    for i in range(N):\n",
    "        \n",
    "        # draw from random sample\n",
    "        probs[i] = rnd.beta(S[i]+1, F[i]+1)\n",
    "        \n",
    "    print(probs)\n",
    "    machine = np.argmax(probs)\n",
    "    print(\"Playing machine {}\".format(machine))\n",
    "    \n",
    "    # draw from a random uniform distribution\n",
    "    p = rnd.random_sample()\n",
    "    if p < means[machine]:\n",
    "        print(\" -- win!\")\n",
    "        S[machine] += 1\n",
    "        total_wins += 1\n",
    "    else:\n",
    "        print(\" -- lose\")\n",
    "        F[machine] += 1\n",
    "        \n",
    "    wins[trial] = (total_wins)/(trial+1)\n",
    "        \n",
    "print(\"Total wins {}\".format(total_wins))"
   ]
  },
  {
   "cell_type": "code",
   "execution_count": null,
   "metadata": {},
   "outputs": [],
   "source": []
  },
  {
   "cell_type": "code",
   "execution_count": 181,
   "metadata": {},
   "outputs": [
    {
     "data": {
      "image/png": "[encoded data removed]",
      "text/plain": [
       "<Figure size 432x288 with 1 Axes>"
      ]
     },
     "metadata": {},
     "output_type": "display_data"
    }
   ],
   "source": [
    "fig, ax = plt.subplots()\n",
    "ax.plot(wins)\n",
    "\n",
    "ax.set(xlabel='trials', ylabel='wins',\n",
    "       title='Multi-armed bandit wins')\n",
    "ax.grid()\n",
    "ax.set_ylim([0,1.0])\n",
    "\n",
    "# fig.savefig(\"test.png\")\n",
    "plt.show()"
   ]
  },
  {
   "cell_type": "code",
   "execution_count": 146,
   "metadata": {},
   "outputs": [
    {
     "name": "stdout",
     "output_type": "stream",
     "text": [
      "[0.0327601  0.07705772 0.2427083  0.3735574  0.27537369]\n"
     ]
    }
   ],
   "source": [
    "print(probs)"
   ]
  },
  {
   "cell_type": "code",
   "execution_count": 147,
   "metadata": {},
   "outputs": [
    {
     "data": {
      "text/plain": [
       "<matplotlib.axes._subplots.AxesSubplot at 0x12aba0be0>"
      ]
     },
     "execution_count": 147,
     "metadata": {},
     "output_type": "execute_result"
    },
    {
     "data": {
      "image/png": "[encoded data removed]",
      "text/plain": [
       "<Figure size 432x288 with 1 Axes>"
      ]
     },
     "metadata": {},
     "output_type": "display_data"
    }
   ],
   "source": [
    "data = [np.random.beta(x+1, y+1, 1000) for x, y, in zip(S, F)]\n",
    "\n",
    "sns.distplot(data[4], bins=20, kde=True)"
   ]
  },
  {
   "cell_type": "code",
   "execution_count": 148,
   "metadata": {},
   "outputs": [],
   "source": [
    "\n",
    "# sns.set(color_codes=True)\n",
    "# sns.set_context('paper')  #Everything is larger\n"
   ]
  },
  {
   "cell_type": "code",
   "execution_count": 167,
   "metadata": {},
   "outputs": [
    {
     "data": {
      "image/png": "[encoded data removed]",
      "text/plain": [
       "<Figure size 432x288 with 1 Axes>"
      ]
     },
     "metadata": {},
     "output_type": "display_data"
    }
   ],
   "source": [
    "for i in range(N):\n",
    "    ax = sns.distplot(data[i],\n",
    "                     bins=20,\n",
    "                     kde=True,\n",
    "                     label='Machine {}'.format(i),\n",
    "                     )\n",
    "\n",
    "\n",
    "ax.set(xlabel='Machine belief', ylabel='Frequency')\n",
    "ax.legend()\n",
    "plt.savefig('foo.svg')"
   ]
  },
  {
   "cell_type": "code",
   "execution_count": 243,
   "metadata": {},
   "outputs": [
    {
     "name": "stdout",
     "output_type": "stream",
     "text": [
      "[  0 167   6]\n",
      "[ 24 740  63]\n"
     ]
    }
   ],
   "source": [
    "class Experiment(object):\n",
    "    def __init__(self, priors):\n",
    "        self.priors = priors\n",
    "        self.N = len(priors)\n",
    "        self.S = np.zeros(self.N, dtype=np.int)\n",
    "        self.F = np.zeros(self.N, dtype=np.int)\n",
    "        self.trials = 0\n",
    "        \n",
    "    def pull(self, machine):\n",
    "        \n",
    "        self.trials += 1\n",
    "        # draw uniform random sample\n",
    "        p = rnd.random_sample()\n",
    "        if p < means[machine]:\n",
    "            self.S[machine] += 1\n",
    "        else:\n",
    "            self.F[machine] += 1\n",
    "            \n",
    "    def solve(self, solver, n_trials):\n",
    "        for i in range(n_trials):\n",
    "            machine = solver(self)\n",
    "            self.pull(machine)\n",
    "\n",
    "def thompson(experiment):\n",
    "    N = experiment.N\n",
    "    S = experiment.S\n",
    "    F = experiment.F\n",
    "    \n",
    "    probs = np.zeros(N)\n",
    "    for i in range(N):\n",
    "        probs[i] = rnd.beta(S[i]+1, F[i]+1)\n",
    "    \n",
    "    return np.argmax(probs)\n",
    "            \n",
    "means = np.array([0.05, 0.2, 0.1])\n",
    "a = Experiment(means)\n",
    "\n",
    "a.N\n",
    "a.solve(thompson, 1000)\n",
    "\n",
    "print(a.S)\n",
    "print(a.F)"
   ]
  },
  {
   "cell_type": "code",
   "execution_count": null,
   "metadata": {},
   "outputs": [],
   "source": []
  },
  {
   "cell_type": "code",
   "execution_count": null,
   "metadata": {},
   "outputs": [],
   "source": []
  }
 ],
 "metadata": {
  "kernelspec": {
   "display_name": "Python 3",
   "language": "python",
   "name": "python3"
  },
  "language_info": {
   "codemirror_mode": {
    "name": "ipython",
    "version": 3
   },
   "file_extension": ".py",
   "mimetype": "text/x-python",
   "name": "python",
   "nbconvert_exporter": "python",
   "pygments_lexer": "ipython3",
   "version": "3.7.3"
  }
 },
 "nbformat": 4,
 "nbformat_minor": 2
}
