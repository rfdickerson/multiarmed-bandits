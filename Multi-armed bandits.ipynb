{
 "cells": [
  {
   "cell_type": "code",
   "execution_count": 1,
   "metadata": {},
   "outputs": [],
   "source": [
    "import numpy as np\n"
   ]
  },
  {
   "cell_type": "code",
   "execution_count": 2,
   "metadata": {},
   "outputs": [],
   "source": [
    "N = 3\n",
    "\n",
    "# hidden probabilities\n",
    "means = np.array([0.7, 0.8, 0.5])\n",
    "probs = np.zeros(N)\n",
    "# number of successes for each machine\n",
    "S = np.zeros(N, dtype=np.int)\n",
    "# number of failures for each machine\n",
    "F = np.zeros(N, dtype=np.int)\n",
    "\n",
    "rnd = np.random.RandomState(7)"
   ]
  },
  {
   "cell_type": "code",
   "execution_count": 30,
   "metadata": {},
   "outputs": [
    {
     "name": "stdout",
     "output_type": "stream",
     "text": [
      "Total wins 791\n"
     ]
    }
   ],
   "source": [
    "num_trials = 1000\n",
    "total_wins = 0\n",
    "wins = np.zeros(num_trials)\n",
    "\n",
    "for trial in range(num_trials):\n",
    "    #print(\"Trial {}\".format(trial))\n",
    "    for i in range(N):\n",
    "        probs[i] = rnd.beta(S[i] + 1, F[i] + 1)\n",
    "        #probs[i] = np.random.beta(S[i]+1, F[i]+1)\n",
    "    #print(probs)\n",
    "    machine = np.argmax(probs)\n",
    "    #print(\"Playing machine \" + str(machine))\n",
    "    \n",
    "    # draw from a random uniform distribution\n",
    "    p = rnd.random_sample()\n",
    "    if p < means[machine]:\n",
    "        #print(\" -- win\")\n",
    "        S[machine] += 1\n",
    "        total_wins += 1\n",
    "    else:\n",
    "        #print(\" -- lose\")\n",
    "        F[machine] += 1\n",
    "        \n",
    "    wins[trial] = (total_wins)/(trial+1)\n",
    "        \n",
    "print(\"Total wins {}\".format(total_wins))"
   ]
  },
  {
   "cell_type": "code",
   "execution_count": 31,
   "metadata": {},
   "outputs": [],
   "source": [
    "import matplotlib\n",
    "import matplotlib.pyplot as plt"
   ]
  },
  {
   "cell_type": "code",
   "execution_count": 32,
   "metadata": {},
   "outputs": [
    {
     "data": {
      "image/png": "[encoded data removed]",
      "text/plain": [
       "<Figure size 432x288 with 1 Axes>"
      ]
     },
     "metadata": {},
     "output_type": "display_data"
    }
   ],
   "source": [
    "fig, ax = plt.subplots()\n",
    "ax.plot(wins)\n",
    "\n",
    "ax.set(xlabel='trials', ylabel='wins',\n",
    "       title='Multi-armed bandit wins')\n",
    "ax.grid()\n",
    "\n",
    "fig.savefig(\"test.png\")\n",
    "plt.show()"
   ]
  },
  {
   "cell_type": "code",
   "execution_count": 6,
   "metadata": {},
   "outputs": [
    {
     "name": "stdout",
     "output_type": "stream",
     "text": [
      "[0.66937381 0.7868906  0.4870681 ]\n"
     ]
    }
   ],
   "source": [
    "print(probs)"
   ]
  },
  {
   "cell_type": "code",
   "execution_count": 20,
   "metadata": {},
   "outputs": [
    {
     "data": {
      "text/plain": [
       "Text(0,0.5,'Probability')"
      ]
     },
     "execution_count": 20,
     "metadata": {},
     "output_type": "execute_result"
    },
    {
     "data": {
      "image/png": "[encoded data removed]",
      "text/plain": [
       "<Figure size 432x288 with 1 Axes>"
      ]
     },
     "metadata": {},
     "output_type": "display_data"
    }
   ],
   "source": [
    "samples = np.random.beta(6, 2, 1000)\n",
    "\n",
    "%matplotlib inline\n",
    "n_bins = 100\n",
    "plt.hist(samples, bins=n_bins)\n",
    "plt.ylabel('Probability')"
   ]
  },
  {
   "cell_type": "code",
   "execution_count": null,
   "metadata": {},
   "outputs": [],
   "source": []
  },
  {
   "cell_type": "code",
   "execution_count": null,
   "metadata": {},
   "outputs": [],
   "source": []
  },
  {
   "cell_type": "code",
   "execution_count": null,
   "metadata": {},
   "outputs": [],
   "source": []
  }
 ],
 "metadata": {
  "kernelspec": {
   "display_name": "Python 3",
   "language": "python",
   "name": "python3"
  },
  "language_info": {
   "codemirror_mode": {
    "name": "ipython",
    "version": 3
   },
   "file_extension": ".py",
   "mimetype": "text/x-python",
   "name": "python",
   "nbconvert_exporter": "python",
   "pygments_lexer": "ipython3",
   "version": "3.6.5"
  }
 },
 "nbformat": 4,
 "nbformat_minor": 2
}
